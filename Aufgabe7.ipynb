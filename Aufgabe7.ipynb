{
 "metadata": {
  "name": ""
 },
 "nbformat": 3,
 "nbformat_minor": 0,
 "worksheets": [
  {
   "cells": [
    {
     "cell_type": "heading",
     "level": 1,
     "metadata": {},
     "source": [
      "Aufgabe 7: Konzeptionelle Hydrologie und HBV-Beta-store"
     ]
    },
    {
     "cell_type": "markdown",
     "metadata": {},
     "source": [
      "Der Beta-store simuliert die effektiven Abfluss Qeff als Funktion des Niederschlags $P$ und der relativen S\u00e4ttigung $\\frac{S}{S_{max}}$ eines integralen Bodenspeichers.  \n",
      "\n",
      "$Q_{eff}(t) = P(t) \\Big(\\frac{S}{S_{max}}\\Big)^{\\beta}$\n",
      "\n",
      "Berechnen Sie $S_{max}$, den effektiven Abfluss und den Abflussbeiwert (runoff coefficient, rainfal runoff ratio) f\u00fcr ein 2-st\u00fcndiges Niederschlagsereignis in st\u00fcndlicher Aufl\u00f6sung f\u00fcr eine Bodens\u00e4ule mit 1m M\u00e4chtigkeit und Porosit\u00e4t 0.4 $m^3 m^{-3}$. Die Verdunstung ist vernachl\u00e4ssigbar. \n",
      "\n",
      "Gegeben:\n",
      "\n",
      "$P(t1)= 10mm$, $P(t2) = 15 mm$\n",
      "\n",
      "Relative Anfangss\u00e4ttigung $\\frac{S}{S_{max}} = 0.8$\n",
      "\n",
      "$\\beta = 2$\n"
     ]
    },
    {
     "cell_type": "heading",
     "level": 3,
     "metadata": {},
     "source": [
      "L\u00f6sung"
     ]
    },
    {
     "cell_type": "markdown",
     "metadata": {},
     "source": [
      "Porosit\u00e4t ist das Volumen an Porenraum im Gesamtvolumen der Probe. Diese ist gegeben mit $0.4 m^3 m^{-3}$. Die Probe selbst ist $1 m$ tief. Wenn wir das Modell in 1D belassen, wissen wir also, dass $40\\%$ von $1000 mm$ Porenraum sind. Dies entspricht $S_{max}$."
     ]
    },
    {
     "cell_type": "code",
     "collapsed": false,
     "input": [
      "1000*0.4"
     ],
     "language": "python",
     "metadata": {},
     "outputs": [
      {
       "metadata": {},
       "output_type": "pyout",
       "prompt_number": 1,
       "text": [
        "400.0"
       ]
      }
     ],
     "prompt_number": 1
    },
    {
     "cell_type": "markdown",
     "metadata": {},
     "source": [
      "Das Beta-store Modell sch\u00e4tzt uns den effektiven Abfluss aus einem Gebiet f\u00fcr den Zustand $\\frac{S}{S_{max}}$ und der Speicherpotenz $\\beta$ mit gegebenem Niederschlag. Wir m\u00fcssen nur noch einsetzen:"
     ]
    },
    {
     "cell_type": "code",
     "collapsed": false,
     "input": [
      "10 * 0.8**2 #mm"
     ],
     "language": "python",
     "metadata": {},
     "outputs": [
      {
       "metadata": {},
       "output_type": "pyout",
       "prompt_number": 2,
       "text": [
        "6.400000000000001"
       ]
      }
     ],
     "prompt_number": 2
    },
    {
     "cell_type": "markdown",
     "metadata": {},
     "source": [
      "Der Gebietsabfluss in der ersten Stunde ist $6.4 mm$. Das hei\u00dft auch, dass von $10 mm$ $3.6 mm$ im Gebiet bleiben. Wir m\u00fcssen f\u00fcr unseren zweiten Zeitschritt also unseren Zustand updaten:"
     ]
    },
    {
     "cell_type": "code",
     "collapsed": false,
     "input": [
      "#im Gebiet befanden sich\n",
      "#0.8 * 400 mm\n",
      "#dazu addieren wir 3.6 mm\n",
      "#Der neue Speicherzustand ist:\n",
      "\n",
      "(0.8*400 + 3.6)/400"
     ],
     "language": "python",
     "metadata": {},
     "outputs": [
      {
       "metadata": {},
       "output_type": "pyout",
       "prompt_number": 3,
       "text": [
        "0.809"
       ]
      }
     ],
     "prompt_number": 3
    },
    {
     "cell_type": "markdown",
     "metadata": {},
     "source": [
      "Mit diesem neuen Speicherzustand und dem Niedrschlag von $15 mm$ errechnen wir den Abfluss zum zweiten Zeitschritt:"
     ]
    },
    {
     "cell_type": "code",
     "collapsed": false,
     "input": [
      "15 * 0.809**2 #mm"
     ],
     "language": "python",
     "metadata": {},
     "outputs": [
      {
       "metadata": {},
       "output_type": "pyout",
       "prompt_number": 4,
       "text": [
        "9.817215000000001"
       ]
      }
     ],
     "prompt_number": 4
    },
    {
     "cell_type": "markdown",
     "metadata": {},
     "source": [
      "Der effektive Abfluss f\u00fcr das Ereignis ist daher die Summe beider Zeitschritte."
     ]
    },
    {
     "cell_type": "code",
     "collapsed": false,
     "input": [
      "6.4+9.817215"
     ],
     "language": "python",
     "metadata": {},
     "outputs": [
      {
       "metadata": {},
       "output_type": "pyout",
       "prompt_number": 5,
       "text": [
        "16.217215"
       ]
      }
     ],
     "prompt_number": 5
    },
    {
     "cell_type": "markdown",
     "metadata": {},
     "source": [
      "Der Runoff Coefficient errechnet sich als Quotient von Abfluss und Niederschlag."
     ]
    },
    {
     "cell_type": "code",
     "collapsed": false,
     "input": [
      "16.217215/25."
     ],
     "language": "python",
     "metadata": {},
     "outputs": [
      {
       "metadata": {},
       "output_type": "pyout",
       "prompt_number": 6,
       "text": [
        "0.6486886"
       ]
      }
     ],
     "prompt_number": 6
    },
    {
     "cell_type": "code",
     "collapsed": false,
     "input": [],
     "language": "python",
     "metadata": {},
     "outputs": []
    }
   ],
   "metadata": {}
  }
 ]
}
